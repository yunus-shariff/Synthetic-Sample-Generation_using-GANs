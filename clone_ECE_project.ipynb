{
 "cells": [
  {
   "cell_type": "code",
   "execution_count": 3,
   "id": "a7d6fb1b",
   "metadata": {},
   "outputs": [],
   "source": [
    "import os\n",
    "import pandas as pd\n",
    "import numpy as np\n",
    "from sklearn.preprocessing import MinMaxScaler"
   ]
  },
  {
   "cell_type": "code",
   "execution_count": 4,
   "id": "9b0d37b0",
   "metadata": {},
   "outputs": [],
   "source": [
    "from tools.train import build_network, train_gan # functions from project"
   ]
  },
  {
   "cell_type": "code",
   "execution_count": 6,
   "id": "aa45197f",
   "metadata": {},
   "outputs": [],
   "source": [
    "df = pd.read_csv(\"data_clean/clean.csv\") # data is a small subset of the full nyc taxi data\n",
    "# obtain the full data for 2016 here\n",
    "data_columns = df.columns\n",
    "scaler = MinMaxScaler().fit(df)\n",
    "df = scaler.transform(df)"
   ]
  },
  {
   "cell_type": "code",
   "execution_count": null,
   "id": "e8a98f6b",
   "metadata": {},
   "outputs": [],
   "source": [
    "for _ in range(5000):\n",
    "    # these GANS often converge to one point, these randomized hyper parameters\n",
    "    # prevent it getting stuck on one solution. Also, these are appropriate for \n",
    "    # this taxi data another  dataset would require different randomized archatecture\n",
    "    neurons = np.random.randint(8, 25)\n",
    "    hidden = np.random.randint(5, 10)\n",
    "    noise_n = np.random.randint(125, 150)\n",
    "    epochs = np.random.randint(75, 100)\n",
    "    learna = np.random.exponential(1e-2)\n",
    "    learnb = np.random.exponential(1e-2)\n",
    "\n",
    "    generator = build_network(output_dim=df.shape[1], n_hidden=hidden, n_neurons=neurons, learning_rate=learna)\n",
    "    discriminator = build_network(output_dim=1, n_hidden=hidden, n_neurons=neurons, learning_rate=learnb) \n",
    "    \n",
    "    gen_data = train_gan(generator, discriminator, df, n_epochs=epochs, n_noise=noise_n)\n",
    "    output_path = \"generated_data.csv\"\n",
    "    generated_data = pd.DataFrame(scaler.inverse_transform(gen_data), columns=data_columns) \n",
    "    generated_data.to_csv(output_path, mode='a', header=not os.path.exists(output_path), index=False)"
   ]
  }
 ],
 "metadata": {
  "kernelspec": {
   "display_name": "Python 3",
   "language": "python",
   "name": "python3"
  },
  "language_info": {
   "codemirror_mode": {
    "name": "ipython",
    "version": 3
   },
   "file_extension": ".py",
   "mimetype": "text/x-python",
   "name": "python",
   "nbconvert_exporter": "python",
   "pygments_lexer": "ipython3",
   "version": "3.8.13"
  }
 },
 "nbformat": 4,
 "nbformat_minor": 5
}
